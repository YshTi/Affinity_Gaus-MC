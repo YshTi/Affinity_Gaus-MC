{
 "cells": [
  {
   "cell_type": "code",
   "execution_count": 2,
   "id": "c2d276ee",
   "metadata": {},
   "outputs": [],
   "source": [
    "from __future__ import division\n",
    "import numpy as np\n",
    "import pandas as pd\n",
    "from math import isclose\n",
    "import matplotlib.pyplot as plt"
   ]
  },
  {
   "cell_type": "code",
   "execution_count": 3,
   "id": "82fdba8a",
   "metadata": {},
   "outputs": [],
   "source": [
    "plt.rcParams.update({\n",
    "    \"text.usetex\": True,\n",
    "    \"font.family\": \"Times\"\n",
    "})"
   ]
  },
  {
   "cell_type": "code",
   "execution_count": 4,
   "id": "f3c4453a",
   "metadata": {},
   "outputs": [
    {
     "data": {
      "text/plain": [
       "Index(['Unnamed: 0', 'W2', 'pT', 'Q2', 'x', 'z', 'hadron', 'target'], dtype='object')"
      ]
     },
     "execution_count": 4,
     "metadata": {},
     "output_type": "execute_result"
    }
   ],
   "source": [
    "data_H = pd.read_excel('/Users/tetiana/Documents/Affinity/expdata/jlab12.xlsx')\n",
    "data_H.keys()"
   ]
  },
  {
   "cell_type": "code",
   "execution_count": 5,
   "id": "fad1715a",
   "metadata": {},
   "outputs": [
    {
     "data": {
      "text/plain": [
       "Index(['Unnamed: 0', 'x', 'z', 'Q2', 'pT', 'target', 'hadron'], dtype='object')"
      ]
     },
     "execution_count": 5,
     "metadata": {},
     "output_type": "execute_result"
    }
   ],
   "source": [
    "data_R = pd.read_excel('/Users/tetiana/Documents/Affinity/Clas12_and_Jlab12/CLAS12_1400.xlsx')\n",
    "data_R.keys()"
   ]
  },
  {
   "cell_type": "code",
   "execution_count": 6,
   "id": "87683739",
   "metadata": {},
   "outputs": [
    {
     "name": "stdout",
     "output_type": "stream",
     "text": [
      "Max values:\n",
      "Harut: x = 0.5455594781168515 z = 0.9                pT = 2.209965757223014 Q2 = 11.10415605935804\n",
      "Rowan: x = 0.668303247393284  z = 0.817314123633368  pT = 1.20437900739977  Q2 = 9.05949857031466\n"
     ]
    }
   ],
   "source": [
    "print('Max values:')\n",
    "print('Harut:', 'x =', data_H['x'].max(), 'z =', data_H['z'].max(), '               pT =', data_H['pT'].max(), 'Q2 =', data_H['Q2'].max())\n",
    "print('Rowan:', 'x =', data_R['x'].max(), ' z =', data_R['z'].max(), ' pT =', data_R['pT'].max(), ' Q2 =', data_R['Q2'].max())"
   ]
  },
  {
   "cell_type": "code",
   "execution_count": 36,
   "id": "ad9a7e4a",
   "metadata": {},
   "outputs": [
    {
     "name": "stdout",
     "output_type": "stream",
     "text": [
      "Kinematics same, i =  1235\n",
      "Harut data:  x = 0.5455594781168515 z = 0.3666666666666667 pT = 0.4039215270835256 Q2 = 7.8728228129305\n",
      "Rowan data:  x = 0.530333702183875  z = 0.245900011054363  pT = 0.393171771946087  Q2 = 7.95296439943337\n",
      "No same kinematics\n"
     ]
    }
   ],
   "source": [
    "for i in range(len(data_H)):\n",
    "    if (isclose(data_H['pT'][i], data_R['pT'][i], rel_tol=1e-1, abs_tol=0.0)):\n",
    "#         if (isclose(data_H['z'][i], data_R['z'][i], rel_tol=1e-1, abs_tol=0.0)):\n",
    "            if (isclose(data_H['x'][i], data_R['x'][i], rel_tol=1e-1, abs_tol=0.0)):\n",
    "                if (isclose(data_H['Q2'][i], data_R['Q2'][i], rel_tol=1e-1, abs_tol=0.0)):\n",
    "                    print(\"Kinematics same, i = \",i)\n",
    "                    print('Harut data: ', 'x =', data_H['x'][i], 'z =', data_H['z'][i], 'pT =', data_H['pT'][i], 'Q2 =', data_H['Q2'][i] )\n",
    "                    print('Rowan data: ', 'x =', data_R['x'][i], ' z =', data_R['z'][i], ' pT =', data_R['pT'][i], ' Q2 =', data_R['Q2'][i])\n",
    "                    kinem_H = pd.DataFrame({'x': data_H['x'][i], 'z': data_H['z'][i], 'pT': data_H['pT'][i], \n",
    "                                            'Q2': data_H['Q2'][i], 'hadron': data_H['hadron'][i], \n",
    "                                            'target': data_H['target'][i]}, index = [1])\n",
    "                    kinem_R = pd.DataFrame({'x': data_R['x'][i], 'z': data_R['z'][i], 'pT': data_R['pT'][i], \n",
    "                                            'Q2': data_R['Q2'][i], 'hadron': data_R['hadron'][i],\n",
    "                                            'target': data_R['target'][i]}, index = [1])\n",
    "    else: \n",
    "        if (i==len(data_H)-1): print('No same kinematics')\n",
    "            \n"
   ]
  },
  {
   "cell_type": "code",
   "execution_count": 35,
   "id": "52ad38e0",
   "metadata": {},
   "outputs": [],
   "source": [
    "kinem_H.to_excel('/Users/tetiana/Documents/Affinity/Clas12_and_Jlab12/Harut_similar_bin.xlsx')\n",
    "kinem_R.to_excel('/Users/tetiana/Documents/Affinity/Clas12_and_Jlab12/Rowan_similar_bin.xlsx')"
   ]
  },
  {
   "cell_type": "code",
   "execution_count": 46,
   "id": "38fc9a68",
   "metadata": {},
   "outputs": [
    {
     "name": "stdout",
     "output_type": "stream",
     "text": [
      "Kinematics same, i =  1157\n",
      "\n",
      "x = 0.5455594781168515 z = 0.5444444444444445 pT = 0.633653802892243 Q2 = 5.581814476712445\n",
      "\n",
      "x = 0.559688657300636 z = 0.541580636915805 pT = 0.288938350735773 Q2 = 5.03015182802216\n",
      "No same kinematics\n"
     ]
    }
   ],
   "source": [
    "for i in range(len(data_H)):\n",
    "    if (isclose(data_H['x'][i], data_R['x'][i], rel_tol=1e-1, abs_tol=0.0) and isclose(data_H['z'][i], data_R['z'][i], rel_tol=1e-1, abs_tol=0.0)\n",
    "       and isclose(data_H['pT'][i], data_R['pT'][i], rel_tol=1e-0, abs_tol=0.0) and isclose(data_H['Q2'][i], data_R['Q2'][i], rel_tol=1e-1, abs_tol=0.0)):\n",
    "        print(\"Kinematics same, i = \",i)\n",
    "        print('\\nx =', data_H['x'][i], 'z =', data_H['z'][i], 'pT =', data_H['pT'][i], 'Q2 =', data_H['Q2'][i])\n",
    "        print('\\nx =', data_R['x'][i], 'z =', data_R['z'][i], 'pT =', data_R['pT'][i], 'Q2 =', data_R['Q2'][i])\n",
    "        kinematics['x'][i] = data_H['x'][i]\n",
    "        kinematics['z'][i] = data_H['z'][i]\n",
    "        kinematics['pT'][i] = data_H['pT'][i]\n",
    "        kinematics['Q2'][i] = data_H['Q2'][i]\n",
    "    else: \n",
    "        if (i==len(data_H)-1): print('No same kinematics')"
   ]
  },
  {
   "cell_type": "code",
   "execution_count": 78,
   "id": "9e85579a",
   "metadata": {},
   "outputs": [
    {
     "data": {
      "image/png": "[encoded data removed]",
      "text/plain": [
       "<Figure size 640x480 with 4 Axes>"
      ]
     },
     "metadata": {},
     "output_type": "display_data"
    }
   ],
   "source": [
    "fig, axs = plt.subplots(2, 2)\n",
    "fig.subplots_adjust(left=0.6, wspace=2)\n",
    "\n",
    "plt.rcParams['text.usetex'] = True\n",
    "fig.suptitle('Hadronic variables (Harut and Rowan) JLab12')\n",
    "\n",
    "edges1 = np.linspace(0, 0.7, 100)\n",
    "\n",
    "axs[0, 0].hist(data_H['x'], alpha = 0.5, bins = edges1, label='x (Harut)', linewidth=2, histtype='stepfilled', density=False)\n",
    "axs[0, 0].hist(data_R['x'], alpha = 0.5, bins = edges1, label=['x (Rowan)'], linewidth=2, histtype='stepfilled', stacked=True, density=False)\n",
    "axs[0, 0].set_title(\"$x$\", fontsize=16)\n",
    "axs[0, 0].set_xlabel('$x$ values')\n",
    "axs[0, 0].set_ylabel('Number of counts', fontsize=12)\n",
    "axs[0, 0].set_xticks(np.arange(0, 1.1, step=0.25))\n",
    "axs[0, 0].legend(fontsize=8)\n",
    "\n",
    "edges3 = np.linspace(0, 0.9, 100)\n",
    "\n",
    "axs[0, 1].hist(data_H['z'], alpha = 0.5, bins = edges3, label='z (Harut)', linewidth=2, histtype='stepfilled', density=False)\n",
    "axs[0, 1].hist(data_R['z'], alpha = 0.5, bins = edges3, label='z (Rowan)', linewidth=2, histtype='stepfilled', stacked=True, density=False)\n",
    "axs[0, 1].set_title(\"$z$\", fontsize=16)\n",
    "axs[0, 1].set_xlabel('$z$ values')\n",
    "axs[0, 1].set_xticks(np.arange(0, 2.1, step=0.5))\n",
    "axs[0, 1].legend(fontsize=8)\n",
    "\n",
    "edges2 = np.linspace(0, 2.5, 100)\n",
    "\n",
    "axs[1, 0].hist(data_H['pT'], alpha = 0.5, bins = edges2, label='$p_T$ (Harut)', linewidth=2, histtype='stepfilled', density=False)\n",
    "axs[1, 0].hist(data_R['pT'], alpha = 0.5, bins = edges2, label='$p_T$ (Rowan)', linewidth=2, histtype='stepfilled', stacked=True, density=False)\n",
    "axs[1, 0].set_title(\"$p_T$\", fontsize=16)\n",
    "axs[1, 0].set_xlabel('$p_T$ values')\n",
    "axs[1, 0].set_ylabel('Number of counts', fontsize=12)\n",
    "axs[1, 0].set_xticks(np.arange(0, 4.1, step=0.5))\n",
    "axs[1, 0].legend(fontsize=8)\n",
    "\n",
    "edges4 = np.linspace(0, 12, 100)\n",
    "\n",
    "axs[1, 1].hist(data_H['Q2'], alpha = 0.5, bins = edges4, label='$Q^2$ (Harut)', linewidth=2, histtype='stepfilled', density=False)\n",
    "axs[1, 1].hist(data_R['Q2'], alpha = 0.5, bins = edges4, label='$Q^2$ (Rowan)', linewidth=2, histtype='stepfilled', stacked=True, density=False)\n",
    "axs[1, 1].set_title(\"$Q^2$\", fontsize=16)\n",
    "axs[1, 1].set_xlabel('$Q^2$ values')\n",
    "axs[1, 1].legend(fontsize=8)\n",
    "\n",
    "fig.tight_layout()"
   ]
  },
  {
   "cell_type": "code",
   "execution_count": null,
   "id": "e067e272",
   "metadata": {},
   "outputs": [],
   "source": []
  }
 ],
 "metadata": {
  "kernelspec": {
   "display_name": "Python 3 (ipykernel)",
   "language": "python",
   "name": "python3"
  },
  "language_info": {
   "codemirror_mode": {
    "name": "ipython",
    "version": 3
   },
   "file_extension": ".py",
   "mimetype": "text/x-python",
   "name": "python",
   "nbconvert_exporter": "python",
   "pygments_lexer": "ipython3",
   "version": "3.11.8"
  }
 },
 "nbformat": 4,
 "nbformat_minor": 5
}
